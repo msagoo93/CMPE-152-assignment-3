{
  "cells": [
    {
      "cell_type": "markdown",
      "metadata": {
        "id": "view-in-github",
        "colab_type": "text"
      },
      "source": [
        "<a href=\"https://colab.research.google.com/github/msagoo93/CMPE-152-assignment-3/blob/master/sql_selections_(1).ipynb\" target=\"_parent\"><img src=\"https://colab.research.google.com/assets/colab-badge.svg\" alt=\"Open In Colab\"/></a>"
      ]
    },
    {
      "cell_type": "markdown",
      "metadata": {
        "id": "GyM2p1yTilnQ"
      },
      "source": [
        "# Lecture 3: In-class activity - Selection queries"
      ]
    },
    {
      "cell_type": "markdown",
      "metadata": {
        "id": "wY4_9dipilnU"
      },
      "source": [
        "## Let's setup the SQL environment\n",
        "\n"
      ]
    },
    {
      "cell_type": "code",
      "execution_count": 33,
      "metadata": {
        "colab": {
          "base_uri": "https://localhost:8080/"
        },
        "id": "Cn3eXMVLilnV",
        "outputId": "65cb8765-a10f-48bd-d1f4-ce535c136d6c"
      },
      "outputs": [
        {
          "output_type": "stream",
          "name": "stdout",
          "text": [
            "Requirement already satisfied: pysqlite3 in /usr/local/lib/python3.10/dist-packages (0.5.2)\n",
            "3.37.2\n"
          ]
        }
      ],
      "source": [
        "#Install pysqlite3 for python and import pandas to use later\n",
        "!pip install pysqlite3\n",
        "from pysqlite3 import dbapi2 as sqlite3\n",
        "print(sqlite3.sqlite_version)\n",
        "import pandas as pd\n",
        "from IPython.display import display, HTML"
      ]
    },
    {
      "cell_type": "markdown",
      "metadata": {
        "id": "dJcHeP6TilnW"
      },
      "source": [
        "Let's define some helper functions for running queries and printing results"
      ]
    },
    {
      "cell_type": "code",
      "execution_count": 34,
      "metadata": {
        "id": "uoXgRYB3ilnW"
      },
      "outputs": [],
      "source": [
        "dbname = \"music_streaming4.db\"\n",
        "\n",
        "def printSqlResults(cursor, tblName):\n",
        "  try:\n",
        "    df = pd.DataFrame(cursor.fetchall(), columns=[i[0] for i in cursor.description])\n",
        "    display(HTML(\"<b><font color=Green> \" + tblName + \"</font></b>\" + df.to_html(index=False)))\n",
        "  except:\n",
        "    pass\n",
        "\n",
        "def runSql(caption, query):\n",
        "  conn = sqlite3.connect(dbname) # Connect to the database\n",
        "  cursor = conn.cursor() # Create a cursor (think: it's like a \"pointer\")\n",
        "  cursor.execute(query) # Execute the query\n",
        "  printSqlResults(cursor, caption) # Print the results\n",
        "  conn.close()\n",
        "\n",
        "def runStepByStepSql(query, fromline):\n",
        "  lines = query.strip().split('\\n')\n",
        "  for lineidx in range(fromline, len(lines)):\n",
        "    partial_query = '\\n'.join(lines[:lineidx])\n",
        "    caption = 'Query till line:' +  partial_query\n",
        "    runSql(caption, partial_query + ';')"
      ]
    },
    {
      "cell_type": "markdown",
      "metadata": {
        "collapsed": true,
        "id": "m3JltscTilnX"
      },
      "source": [
        "Let's setup a Schema and insert some data"
      ]
    },
    {
      "cell_type": "code",
      "execution_count": 35,
      "metadata": {
        "id": "bOJtTmLsilnY"
      },
      "outputs": [],
      "source": [
        "# Connect to database (creates the file if it doesn't exist)\n",
        "\"\"\"\n",
        "1. Connections: A connection represents a connection to a database through\n",
        "which we can execute SQL queries. The dbname here specifies the database.\n",
        "In SQLlite, if the DB doesn't exist, it will be created.\n",
        "2. Cursors: A cursor is an object associated with a database connection.\n",
        "It allows you to execute SQL queries, fetch query results.\n",
        "\"\"\"\n",
        "conn = sqlite3.connect(dbname)\n",
        "cursor = conn.cursor()\n",
        "\n",
        "# Create the Users table\n",
        "cursor.execute(\"\"\"\n",
        "CREATE TABLE IF NOT EXISTS Users (\n",
        "    user_id INTEGER PRIMARY KEY,\n",
        "    name VARCHAR(100) NOT NULL,\n",
        "    email VARCHAR(100) NOT NULL UNIQUE\n",
        ");\n",
        "\"\"\")\n",
        "\n",
        "# Create the Songs table\n",
        "cursor.execute(\"\"\"\n",
        "CREATE TABLE IF NOT EXISTS Songs (\n",
        "    song_id INTEGER PRIMARY KEY,\n",
        "    title VARCHAR(100) NOT NULL,\n",
        "    artist VARCHAR(100) NOT NULL,\n",
        "    genre VARCHAR(100)\n",
        ");\n",
        "\"\"\")\n",
        "\n",
        "# Create the Listens table\n",
        "cursor.execute(\"\"\"\n",
        "CREATE TABLE IF NOT EXISTS Listens (\n",
        "    listen_id INTEGER PRIMARY KEY,\n",
        "    user_id INTEGER NOT NULL,\n",
        "    song_id INTEGER NOT NULL,\n",
        "    rating FLOAT,\n",
        "    listen_time TIMESTAMP,\n",
        "    FOREIGN KEY (user_id) REFERENCES Users(user_id),\n",
        "    FOREIGN KEY (song_id) REFERENCES Songs(song_id)\n",
        ");\n",
        "\"\"\")\n",
        "\n",
        "# Create the recommendations table\n",
        "cursor.execute(\"\"\"\n",
        "CREATE TABLE IF NOT EXISTS Recommendations (\n",
        "    user_id INTEGER NOT NULL,\n",
        "    song_id INTEGER NOT NULL,\n",
        "    recommendation_id not NULL,\n",
        "    recommendation_time TIMESTAMP,\n",
        "    FOREIGN KEY (user_id) REFERENCES Users(user_id),\n",
        "    FOREIGN KEY (song_id) REFERENCES Songs(song_id)\n",
        ");\n",
        "\"\"\")\n",
        "\n",
        "# Commit changes and close the connection\n",
        "conn.commit()\n",
        "conn.close()"
      ]
    },
    {
      "cell_type": "code",
      "execution_count": 36,
      "metadata": {
        "colab": {
          "base_uri": "https://localhost:8080/",
          "height": 887
        },
        "id": "RY376-zgilnZ",
        "outputId": "17fde28c-2790-4282-9a7c-92510043e952"
      },
      "outputs": [
        {
          "output_type": "display_data",
          "data": {
            "text/plain": [
              "<IPython.core.display.HTML object>"
            ],
            "text/html": [
              "<b><font color=Green> Users</font></b><table border=\"1\" class=\"dataframe\">\n",
              "  <thead>\n",
              "    <tr style=\"text-align: right;\">\n",
              "      <th>user_id</th>\n",
              "      <th>name</th>\n",
              "      <th>email</th>\n",
              "    </tr>\n",
              "  </thead>\n",
              "  <tbody>\n",
              "    <tr>\n",
              "      <td>1</td>\n",
              "      <td>Mickey</td>\n",
              "      <td>mickey@example.com</td>\n",
              "    </tr>\n",
              "    <tr>\n",
              "      <td>2</td>\n",
              "      <td>Minnie</td>\n",
              "      <td>minnie@example.com</td>\n",
              "    </tr>\n",
              "    <tr>\n",
              "      <td>3</td>\n",
              "      <td>Daffy</td>\n",
              "      <td>daffy@example.com</td>\n",
              "    </tr>\n",
              "    <tr>\n",
              "      <td>4</td>\n",
              "      <td>Pluto</td>\n",
              "      <td>pluto@example.com</td>\n",
              "    </tr>\n",
              "  </tbody>\n",
              "</table>"
            ]
          },
          "metadata": {}
        },
        {
          "output_type": "display_data",
          "data": {
            "text/plain": [
              "<IPython.core.display.HTML object>"
            ],
            "text/html": [
              "<b><font color=Green> Songs</font></b><table border=\"1\" class=\"dataframe\">\n",
              "  <thead>\n",
              "    <tr style=\"text-align: right;\">\n",
              "      <th>song_id</th>\n",
              "      <th>title</th>\n",
              "      <th>artist</th>\n",
              "      <th>genre</th>\n",
              "    </tr>\n",
              "  </thead>\n",
              "  <tbody>\n",
              "    <tr>\n",
              "      <td>1</td>\n",
              "      <td>Evermore</td>\n",
              "      <td>Taylor Swift</td>\n",
              "      <td>Pop</td>\n",
              "    </tr>\n",
              "    <tr>\n",
              "      <td>2</td>\n",
              "      <td>Willow</td>\n",
              "      <td>Taylor Swift</td>\n",
              "      <td>Pop</td>\n",
              "    </tr>\n",
              "    <tr>\n",
              "      <td>3</td>\n",
              "      <td>Shape of You</td>\n",
              "      <td>Ed Sheeran</td>\n",
              "      <td>Rock</td>\n",
              "    </tr>\n",
              "    <tr>\n",
              "      <td>4</td>\n",
              "      <td>Photograph</td>\n",
              "      <td>Ed Sheeran</td>\n",
              "      <td>Rock</td>\n",
              "    </tr>\n",
              "    <tr>\n",
              "      <td>5</td>\n",
              "      <td>Shivers</td>\n",
              "      <td>Ed Sheeran</td>\n",
              "      <td>Rock</td>\n",
              "    </tr>\n",
              "    <tr>\n",
              "      <td>6</td>\n",
              "      <td>Yesterday</td>\n",
              "      <td>Beatles</td>\n",
              "      <td>Classic</td>\n",
              "    </tr>\n",
              "    <tr>\n",
              "      <td>7</td>\n",
              "      <td>Yellow Submarine</td>\n",
              "      <td>Beatles</td>\n",
              "      <td>Classic</td>\n",
              "    </tr>\n",
              "    <tr>\n",
              "      <td>8</td>\n",
              "      <td>Hey Jude</td>\n",
              "      <td>Beatles</td>\n",
              "      <td>Classic</td>\n",
              "    </tr>\n",
              "    <tr>\n",
              "      <td>9</td>\n",
              "      <td>Bad Blood</td>\n",
              "      <td>Taylor Swift</td>\n",
              "      <td>Rock</td>\n",
              "    </tr>\n",
              "    <tr>\n",
              "      <td>10</td>\n",
              "      <td>DJ Mix</td>\n",
              "      <td>DJ</td>\n",
              "      <td>None</td>\n",
              "    </tr>\n",
              "  </tbody>\n",
              "</table>"
            ]
          },
          "metadata": {}
        },
        {
          "output_type": "display_data",
          "data": {
            "text/plain": [
              "<IPython.core.display.HTML object>"
            ],
            "text/html": [
              "<b><font color=Green> Listens</font></b><table border=\"1\" class=\"dataframe\">\n",
              "  <thead>\n",
              "    <tr style=\"text-align: right;\">\n",
              "      <th>listen_id</th>\n",
              "      <th>user_id</th>\n",
              "      <th>song_id</th>\n",
              "      <th>rating</th>\n",
              "      <th>listen_time</th>\n",
              "    </tr>\n",
              "  </thead>\n",
              "  <tbody>\n",
              "    <tr>\n",
              "      <td>1</td>\n",
              "      <td>1</td>\n",
              "      <td>1</td>\n",
              "      <td>4.5</td>\n",
              "      <td>None</td>\n",
              "    </tr>\n",
              "    <tr>\n",
              "      <td>2</td>\n",
              "      <td>1</td>\n",
              "      <td>2</td>\n",
              "      <td>4.2</td>\n",
              "      <td>None</td>\n",
              "    </tr>\n",
              "    <tr>\n",
              "      <td>3</td>\n",
              "      <td>1</td>\n",
              "      <td>6</td>\n",
              "      <td>3.9</td>\n",
              "      <td>None</td>\n",
              "    </tr>\n",
              "    <tr>\n",
              "      <td>4</td>\n",
              "      <td>2</td>\n",
              "      <td>2</td>\n",
              "      <td>4.7</td>\n",
              "      <td>None</td>\n",
              "    </tr>\n",
              "    <tr>\n",
              "      <td>5</td>\n",
              "      <td>2</td>\n",
              "      <td>7</td>\n",
              "      <td>4.6</td>\n",
              "      <td>None</td>\n",
              "    </tr>\n",
              "    <tr>\n",
              "      <td>6</td>\n",
              "      <td>2</td>\n",
              "      <td>8</td>\n",
              "      <td>3.9</td>\n",
              "      <td>None</td>\n",
              "    </tr>\n",
              "    <tr>\n",
              "      <td>7</td>\n",
              "      <td>3</td>\n",
              "      <td>1</td>\n",
              "      <td>2.9</td>\n",
              "      <td>None</td>\n",
              "    </tr>\n",
              "    <tr>\n",
              "      <td>8</td>\n",
              "      <td>3</td>\n",
              "      <td>2</td>\n",
              "      <td>4.9</td>\n",
              "      <td>None</td>\n",
              "    </tr>\n",
              "    <tr>\n",
              "      <td>9</td>\n",
              "      <td>3</td>\n",
              "      <td>6</td>\n",
              "      <td>NaN</td>\n",
              "      <td>None</td>\n",
              "    </tr>\n",
              "  </tbody>\n",
              "</table>"
            ]
          },
          "metadata": {}
        }
      ],
      "source": [
        "# Connect to database again and insert sample data\n",
        "conn = sqlite3.connect(dbname)\n",
        "sqlite3.enable_callback_tracebacks(True)\n",
        "\n",
        "cursor = conn.cursor()\n",
        "cursor.execute(\"delete from Songs;\")\n",
        "cursor.execute(\"delete from Users;\")\n",
        "cursor.execute(\"delete from Listens;\")\n",
        "cursor.execute(\"delete from Recommendations;\")\n",
        "\n",
        "# Insert sample users\n",
        "cursor.execute(\"\"\"\n",
        "INSERT INTO Users (user_id, name, email)\n",
        "VALUES\n",
        "    (1, 'Mickey', 'mickey@example.com'),\n",
        "    (2, 'Minnie', 'minnie@example.com'),\n",
        "    (3, 'Daffy', 'daffy@example.com'),\n",
        "    (4, 'Pluto', 'pluto@example.com');\n",
        "\"\"\")\n",
        "\n",
        "# Insert sample songs from Taylor Swift, Ed Sheeran, Beatles\n",
        "cursor.execute(\"\"\"\n",
        "INSERT INTO Songs (song_id, title, artist, genre)\n",
        "VALUES\n",
        "    (1, 'Evermore', 'Taylor Swift', 'Pop'),\n",
        "    (2, 'Willow', 'Taylor Swift', 'Pop'),\n",
        "    (3, 'Shape of You', 'Ed Sheeran', 'Rock'),\n",
        "    (4, 'Photograph', 'Ed Sheeran', 'Rock'),\n",
        "    (5, 'Shivers', 'Ed Sheeran', 'Rock'),\n",
        "    (6, 'Yesterday', 'Beatles', 'Classic'),\n",
        "    (7, 'Yellow Submarine', 'Beatles', 'Classic'),\n",
        "    (8, 'Hey Jude', 'Beatles', 'Classic'),\n",
        "    (9, 'Bad Blood', 'Taylor Swift', 'Rock'),\n",
        "    (10, 'DJ Mix', 'DJ', NULL);\n",
        "\"\"\")\n",
        "\n",
        "# Insert sample listens\n",
        "cursor.execute(\"\"\"\n",
        "INSERT INTO Listens (listen_id, user_id, song_id, rating)\n",
        "VALUES\n",
        "    (1, 1, 1, 4.5),\n",
        "    (2, 1, 2, 4.2),\n",
        "    (3, 1, 6, 3.9),\n",
        "    (4, 2, 2, 4.7),\n",
        "    (5, 2, 7, 4.6),\n",
        "    (6, 2, 8, 3.9),\n",
        "    (7, 3, 1, 2.9),\n",
        "    (8, 3, 2, 4.9),\n",
        "    (9, 3, 6, NULL);\n",
        "\"\"\")\n",
        "# Commit changes and close the connection\n",
        "conn.commit()\n",
        "conn.close()\n",
        "\n",
        "runSql('Users', \"select * from Users;\")\n",
        "runSql('Songs', \"select * from Songs;\")\n",
        "runSql('Listens', \"select * from Listens;\")"
      ]
    },
    {
      "cell_type": "markdown",
      "metadata": {
        "id": "xh7US5Txilna"
      },
      "source": [
        "# Basic SQL queries (ORDER BY, GROUP BY, LIMIT, JOINS, LEFT JOINs)"
      ]
    },
    {
      "cell_type": "code",
      "execution_count": 37,
      "metadata": {
        "colab": {
          "base_uri": "https://localhost:8080/",
          "height": 812
        },
        "id": "14IA4xafilna",
        "outputId": "c642abb3-ce13-4428-e7bd-fc5f3f35f18c"
      },
      "outputs": [
        {
          "output_type": "display_data",
          "data": {
            "text/plain": [
              "<IPython.core.display.HTML object>"
            ],
            "text/html": [
              "<b><font color=Green> Classic songs</font></b><table border=\"1\" class=\"dataframe\">\n",
              "  <thead>\n",
              "    <tr style=\"text-align: right;\">\n",
              "      <th>title</th>\n",
              "      <th>artist</th>\n",
              "    </tr>\n",
              "  </thead>\n",
              "  <tbody>\n",
              "    <tr>\n",
              "      <td>Yesterday</td>\n",
              "      <td>Beatles</td>\n",
              "    </tr>\n",
              "    <tr>\n",
              "      <td>Yellow Submarine</td>\n",
              "      <td>Beatles</td>\n",
              "    </tr>\n",
              "    <tr>\n",
              "      <td>Hey Jude</td>\n",
              "      <td>Beatles</td>\n",
              "    </tr>\n",
              "  </tbody>\n",
              "</table>"
            ]
          },
          "metadata": {}
        },
        {
          "output_type": "display_data",
          "data": {
            "text/plain": [
              "<IPython.core.display.HTML object>"
            ],
            "text/html": [
              "<b><font color=Green> All genres in the Songs table</font></b><table border=\"1\" class=\"dataframe\">\n",
              "  <thead>\n",
              "    <tr style=\"text-align: right;\">\n",
              "      <th>genre</th>\n",
              "    </tr>\n",
              "  </thead>\n",
              "  <tbody>\n",
              "    <tr>\n",
              "      <td>Pop</td>\n",
              "    </tr>\n",
              "    <tr>\n",
              "      <td>Pop</td>\n",
              "    </tr>\n",
              "    <tr>\n",
              "      <td>Rock</td>\n",
              "    </tr>\n",
              "    <tr>\n",
              "      <td>Rock</td>\n",
              "    </tr>\n",
              "    <tr>\n",
              "      <td>Rock</td>\n",
              "    </tr>\n",
              "    <tr>\n",
              "      <td>Classic</td>\n",
              "    </tr>\n",
              "    <tr>\n",
              "      <td>Classic</td>\n",
              "    </tr>\n",
              "    <tr>\n",
              "      <td>Classic</td>\n",
              "    </tr>\n",
              "    <tr>\n",
              "      <td>Rock</td>\n",
              "    </tr>\n",
              "    <tr>\n",
              "      <td>None</td>\n",
              "    </tr>\n",
              "  </tbody>\n",
              "</table>"
            ]
          },
          "metadata": {}
        },
        {
          "output_type": "display_data",
          "data": {
            "text/plain": [
              "<IPython.core.display.HTML object>"
            ],
            "text/html": [
              "<b><font color=Green> Unique genres in the Songs table</font></b><table border=\"1\" class=\"dataframe\">\n",
              "  <thead>\n",
              "    <tr style=\"text-align: right;\">\n",
              "      <th>genre</th>\n",
              "    </tr>\n",
              "  </thead>\n",
              "  <tbody>\n",
              "    <tr>\n",
              "      <td>Pop</td>\n",
              "    </tr>\n",
              "    <tr>\n",
              "      <td>Rock</td>\n",
              "    </tr>\n",
              "    <tr>\n",
              "      <td>Classic</td>\n",
              "    </tr>\n",
              "    <tr>\n",
              "      <td>None</td>\n",
              "    </tr>\n",
              "  </tbody>\n",
              "</table>"
            ]
          },
          "metadata": {}
        },
        {
          "output_type": "display_data",
          "data": {
            "text/plain": [
              "<IPython.core.display.HTML object>"
            ],
            "text/html": [
              "<b><font color=Green> Count songs by Taylor Swift in different genres</font></b><table border=\"1\" class=\"dataframe\">\n",
              "  <thead>\n",
              "    <tr style=\"text-align: right;\">\n",
              "      <th>genre</th>\n",
              "      <th>num_songs</th>\n",
              "    </tr>\n",
              "  </thead>\n",
              "  <tbody>\n",
              "    <tr>\n",
              "      <td>Pop</td>\n",
              "      <td>2</td>\n",
              "    </tr>\n",
              "    <tr>\n",
              "      <td>Rock</td>\n",
              "      <td>1</td>\n",
              "    </tr>\n",
              "  </tbody>\n",
              "</table>"
            ]
          },
          "metadata": {}
        }
      ],
      "source": [
        "\"\"\" Goal: Learn basic forms of SELECT, FROM, WHERE, DISTINCT \"\"\"\n",
        "\n",
        "qry_classic_songs = \"\"\"\n",
        "-- Find the titles and artists of songs in the \"Classic\" genre.\n",
        "SELECT Songs.title, Songs.artist\n",
        "FROM Songs\n",
        "WHERE Songs.genre = 'Classic';\"\"\"\n",
        "runSql('Classic songs', qry_classic_songs)\n",
        "\n",
        "qry_genres = \"\"\"\n",
        "-- List of all genres in the Songs table\n",
        "SELECT genre\n",
        "FROM Songs;\"\"\"\n",
        "runSql('All genres in the Songs table', qry_genres)\n",
        "\n",
        "qry_distinct = \"\"\"\n",
        "-- List of unique genres in the Songs table\n",
        "SELECT DISTINCT genre\n",
        "FROM Songs;\"\"\"\n",
        "runSql('Unique genres in the Songs table', qry_distinct)\n",
        "\n",
        "\n",
        "qry_taylor_count = \"\"\"\n",
        "-- Songs by Taylor Swift in different genres\n",
        "SELECT genre, count(*) as num_songs\n",
        "FROM Songs\n",
        "where artist = 'Taylor Swift'\n",
        "GROUP BY genre;\"\"\"\n",
        "runSql('Count songs by Taylor Swift in different genres', qry_taylor_count)\n"
      ]
    },
    {
      "cell_type": "markdown",
      "metadata": {
        "id": "z8a3s9inilna"
      },
      "source": [
        "Experiment 1 with group by"
      ]
    },
    {
      "cell_type": "code",
      "execution_count": 38,
      "metadata": {
        "colab": {
          "base_uri": "https://localhost:8080/",
          "height": 399
        },
        "id": "mD78o4pWilna",
        "outputId": "56228363-6bc4-4803-ac30-3249fba448bd"
      },
      "outputs": [
        {
          "output_type": "display_data",
          "data": {
            "text/plain": [
              "<IPython.core.display.HTML object>"
            ],
            "text/html": [
              "<b><font color=Green> Count songs by genre</font></b><table border=\"1\" class=\"dataframe\">\n",
              "  <thead>\n",
              "    <tr style=\"text-align: right;\">\n",
              "      <th>genre</th>\n",
              "      <th>num_songs</th>\n",
              "    </tr>\n",
              "  </thead>\n",
              "  <tbody>\n",
              "    <tr>\n",
              "      <td>None</td>\n",
              "      <td>1</td>\n",
              "    </tr>\n",
              "    <tr>\n",
              "      <td>Classic</td>\n",
              "      <td>3</td>\n",
              "    </tr>\n",
              "    <tr>\n",
              "      <td>Pop</td>\n",
              "      <td>2</td>\n",
              "    </tr>\n",
              "    <tr>\n",
              "      <td>Rock</td>\n",
              "      <td>4</td>\n",
              "    </tr>\n",
              "  </tbody>\n",
              "</table>"
            ]
          },
          "metadata": {}
        },
        {
          "output_type": "display_data",
          "data": {
            "text/plain": [
              "<IPython.core.display.HTML object>"
            ],
            "text/html": [
              "<b><font color=Green> Count songs by genre-artist</font></b><table border=\"1\" class=\"dataframe\">\n",
              "  <thead>\n",
              "    <tr style=\"text-align: right;\">\n",
              "      <th>genre</th>\n",
              "      <th>num_songs</th>\n",
              "    </tr>\n",
              "  </thead>\n",
              "  <tbody>\n",
              "    <tr>\n",
              "      <td>Classic</td>\n",
              "      <td>3</td>\n",
              "    </tr>\n",
              "    <tr>\n",
              "      <td>None</td>\n",
              "      <td>1</td>\n",
              "    </tr>\n",
              "    <tr>\n",
              "      <td>Rock</td>\n",
              "      <td>3</td>\n",
              "    </tr>\n",
              "    <tr>\n",
              "      <td>Pop</td>\n",
              "      <td>2</td>\n",
              "    </tr>\n",
              "    <tr>\n",
              "      <td>Rock</td>\n",
              "      <td>1</td>\n",
              "    </tr>\n",
              "  </tbody>\n",
              "</table>"
            ]
          },
          "metadata": {}
        }
      ],
      "source": [
        "\n",
        "qry_group_by1 = \"\"\"\n",
        "SELECT genre, count(*) as num_songs\n",
        "FROM Songs\n",
        "GROUP BY genre;\"\"\"\n",
        "runSql('Count songs by genre', qry_group_by1)\n",
        "qry_group_by2 = \"\"\"\n",
        "SELECT genre, count(*) as num_songs\n",
        "FROM Songs\n",
        "GROUP BY artist, genre;\"\"\"\n",
        "runSql('Count songs by genre-artist', qry_group_by2)"
      ]
    },
    {
      "cell_type": "markdown",
      "source": [
        "query that calculates average rating of all songs . only indicates songs from listens"
      ],
      "metadata": {
        "id": "djsBIV_gnm6N"
      }
    },
    {
      "cell_type": "code",
      "execution_count": 39,
      "metadata": {
        "colab": {
          "base_uri": "https://localhost:8080/",
          "height": 224
        },
        "id": "_2ciSKIsilnb",
        "outputId": "7685dc9c-c135-4b2e-d763-6a2e258fcd20"
      },
      "outputs": [
        {
          "output_type": "display_data",
          "data": {
            "text/plain": [
              "<IPython.core.display.HTML object>"
            ],
            "text/html": [
              "<b><font color=Green> calculate the average rating for songs</font></b><table border=\"1\" class=\"dataframe\">\n",
              "  <thead>\n",
              "    <tr style=\"text-align: right;\">\n",
              "      <th>song_id</th>\n",
              "      <th>title</th>\n",
              "      <th>average</th>\n",
              "    </tr>\n",
              "  </thead>\n",
              "  <tbody>\n",
              "    <tr>\n",
              "      <td>1</td>\n",
              "      <td>Evermore</td>\n",
              "      <td>3.7</td>\n",
              "    </tr>\n",
              "    <tr>\n",
              "      <td>2</td>\n",
              "      <td>Willow</td>\n",
              "      <td>4.6</td>\n",
              "    </tr>\n",
              "    <tr>\n",
              "      <td>6</td>\n",
              "      <td>Yesterday</td>\n",
              "      <td>3.9</td>\n",
              "    </tr>\n",
              "    <tr>\n",
              "      <td>7</td>\n",
              "      <td>Yellow Submarine</td>\n",
              "      <td>4.6</td>\n",
              "    </tr>\n",
              "    <tr>\n",
              "      <td>8</td>\n",
              "      <td>Hey Jude</td>\n",
              "      <td>3.9</td>\n",
              "    </tr>\n",
              "  </tbody>\n",
              "</table>"
            ]
          },
          "metadata": {}
        }
      ],
      "source": [
        "qry_group_by_avg = \"\"\"SELECT Songs.song_id, Songs.title, AVG(Listens.rating) as average\n",
        "FROM Songs\n",
        "JOIN Listens\n",
        "ON  Songs.song_id = Listens.song_id\n",
        "GROUP BY Songs.song_id\"\"\"\n",
        "runSql('calculate the average rating for songs', qry_group_by_avg)"
      ]
    }
  ],
  "metadata": {
    "kernelspec": {
      "display_name": "Python 3 (ipykernel)",
      "language": "python",
      "name": "python3"
    },
    "language_info": {
      "codemirror_mode": {
        "name": "ipython",
        "version": 3
      },
      "file_extension": ".py",
      "mimetype": "text/x-python",
      "name": "python",
      "nbconvert_exporter": "python",
      "pygments_lexer": "ipython3",
      "version": "3.11.1"
    },
    "colab": {
      "provenance": [],
      "include_colab_link": true
    }
  },
  "nbformat": 4,
  "nbformat_minor": 0
}