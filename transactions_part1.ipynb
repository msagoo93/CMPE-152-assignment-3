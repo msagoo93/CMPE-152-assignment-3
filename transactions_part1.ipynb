{
  "cells": [
    {
      "cell_type": "markdown",
      "metadata": {
        "id": "view-in-github",
        "colab_type": "text"
      },
      "source": [
        "<a href=\"https://colab.research.google.com/github/msagoo93/CMPE-152-assignment-3/blob/master/transactions_part1.ipynb\" target=\"_parent\"><img src=\"https://colab.research.google.com/assets/colab-badge.svg\" alt=\"Open In Colab\"/></a>"
      ]
    },
    {
      "cell_type": "markdown",
      "id": "85faaa76",
      "metadata": {
        "id": "85faaa76"
      },
      "source": [
        "# Concert App using SQL Transactions"
      ]
    },
    {
      "cell_type": "code",
      "execution_count": 12,
      "id": "dffd28b4",
      "metadata": {
        "colab": {
          "base_uri": "https://localhost:8080/",
          "height": 0
        },
        "id": "dffd28b4",
        "outputId": "a232f295-804c-4d21-bdfd-b72928271772"
      },
      "outputs": [
        {
          "output_type": "stream",
          "name": "stdout",
          "text": [
            "Purchasing for concert_id=2\n",
            "Payment failed for concert_id 2. No ticket change.\n",
            "Want refund for concert_id=3\n",
            "[(1, 'Concert 1', 10), (2, 'Concert 2', 5), (3, 'Concert 3', 16)]\n"
          ]
        }
      ],
      "source": [
        "\"\"\"\n",
        "Example1 TicketMaster's Concert transaction\n",
        "Users can purchase tickets and get ticket refunds\n",
        "\"\"\"\n",
        "\n",
        "import sqlite3\n",
        "import random\n",
        "\n",
        "# Create a connection to an in-memory SQLite database\n",
        "conn = sqlite3.connect(':memory:')\n",
        "cursor = conn.cursor()\n",
        "\n",
        "# Create the Concerts table\n",
        "cursor.execute(\"\"\"\n",
        "CREATE TABLE Concerts (\n",
        "  id INTEGER PRIMARY KEY,\n",
        "  name TEXT NOT NULL,\n",
        "  available_tickets INTEGER NOT NULL\n",
        ");\"\"\")\n",
        "\n",
        "# Add some sample concert data\n",
        "concerts_data = [\n",
        "    ('Concert 1', 10),\n",
        "    ('Concert 2', 5),\n",
        "    ('Concert 3', 15)\n",
        "]\n",
        "\n",
        "cursor.executemany(\"\"\"\n",
        "INSERT INTO Concerts (name, available_tickets) VALUES (?, ?)\n",
        "\"\"\", concerts_data)\n",
        "\n",
        "# Commit the changes\n",
        "conn.commit()\n",
        "\n",
        "def purchase_ticket(concert_id):\n",
        "  print(f'Purchasing for {concert_id=}')\n",
        "  with conn:\n",
        "    # Begin a new transaction\n",
        "    cursor.execute(\"\"\"BEGIN;\"\"\")\n",
        "\n",
        "    # Get the number of available_tickets for the specified concert_id\n",
        "    cursor.execute(\"\"\"\n",
        "      SELECT available_tickets FROM Concerts WHERE id = ?;\"\"\", (concert_id,))\n",
        "    available_tickets = cursor.fetchone()[0]\n",
        "\n",
        "    # Check if there are any tickets available for the specified concert\n",
        "    if available_tickets > 0:\n",
        "      # Simulate payment processing to Visa/Stripe with a 50% chance of failure\n",
        "      payment_successful = random.choice([True, False])\n",
        "\n",
        "      # If payment is successful, update the number of available_tickets\n",
        "      if payment_successful:\n",
        "        cursor.execute(\"\"\"\n",
        "        UPDATE Concerts SET available_tickets = available_tickets - 1 WHERE id = ?;\n",
        "                        \"\"\", (concert_id,))\n",
        "      else:\n",
        "        # If payment fails, do not update available_tickets and print a message\n",
        "        print(f\"Payment failed for concert_id {concert_id}. No ticket change.\")\n",
        "\n",
        "    # Commit the transaction\n",
        "    conn.commit()\n",
        "\n",
        "def refund_ticket(concert_id):\n",
        "  print(f'Want refund for {concert_id=}')\n",
        "  with conn:\n",
        "    # Begin a new transaction\n",
        "    cursor.execute(\"\"\"BEGIN;\"\"\")\n",
        "\n",
        "    # Increase the number of available_tickets for the specified concert_id\n",
        "    cursor.execute(\"\"\"\n",
        "    UPDATE Concerts SET available_tickets = available_tickets + 1 WHERE id = ?;\n",
        "            \"\"\", (concert_id,))\n",
        "\n",
        "    # Commit the transaction\n",
        "    conn.commit()\n",
        "\n",
        "# Simulate purchasing and refunding tickets\n",
        "concert_id = random.randint(1, len(concerts_data))\n",
        "purchase_ticket(concert_id)\n",
        "concert_id = random.randint(1, len(concerts_data))\n",
        "refund_ticket(concert_id)\n",
        "\n",
        "# Print the final state of the concerts table\n",
        "cursor.execute(\"SELECT * FROM Concerts\")\n",
        "print(cursor.fetchall())\n"
      ]
    },
    {
      "cell_type": "code",
      "execution_count": 13,
      "id": "02472d9b",
      "metadata": {
        "id": "02472d9b"
      },
      "outputs": [],
      "source": [
        "# Create the ticket_purchase table\n",
        "cursor.execute(\"\"\"\n",
        "CREATE TABLE IF NOT EXISTS Tickets (\n",
        "    id INTEGER PRIMARY KEY,\n",
        "    user_id INTEGER NOT NULL,\n",
        "    concert_id INTEGER NOT NULL,\n",
        "    num_tickets INTEGER NOT NULL,\n",
        "    purchase_time TIMESTAMP DEFAULT CURRENT_TIMESTAMP,\n",
        "    FOREIGN KEY (concert_id) REFERENCES Concerts(id)\n",
        ");\n",
        "\"\"\")\n",
        "cursor.execute(\"delete from Tickets;\")\n",
        "\n",
        "# Commit the changes\n",
        "conn.commit()"
      ]
    },
    {
      "cell_type": "code",
      "execution_count": 14,
      "id": "13ad6f35",
      "metadata": {
        "colab": {
          "base_uri": "https://localhost:8080/",
          "height": 0
        },
        "id": "13ad6f35",
        "outputId": "983d654a-d469-4e63-a355-4fe04481dac1"
      },
      "outputs": [
        {
          "output_type": "stream",
          "name": "stdout",
          "text": [
            "---> []\n",
            "Checking purchase restrictions for user_id=5, concert_id=2, num_tickets=2\n",
            "---> [(1, 5, 2, 2, '2024-04-18 20:36:40')]\n",
            "Checking purchase restrictions for user_id=5, concert_id=2, num_tickets=1\n",
            "---> [(1, 5, 2, 2, '2024-04-18 20:36:40'), (2, 5, 2, 1, '2024-04-18 20:36:40')]\n",
            "Checking purchase restrictions for user_id=5, concert_id=2, num_tickets=2\n",
            "---> [(1, 5, 2, 2, '2024-04-18 20:36:40'), (2, 5, 2, 1, '2024-04-18 20:36:40'), (3, 5, 2, 2, '2024-04-18 20:36:40')]\n",
            "Checking purchase restrictions for user_id=6, concert_id=2, num_tickets=2\n",
            "---> [(1, 5, 2, 2, '2024-04-18 20:36:40'), (2, 5, 2, 1, '2024-04-18 20:36:40'), (3, 5, 2, 2, '2024-04-18 20:36:40'), (4, 6, 2, 2, '2024-04-18 20:36:40')]\n",
            "Checking purchase restrictions for user_id=6, concert_id=3, num_tickets=2\n",
            "---> [(1, 5, 2, 2, '2024-04-18 20:36:40'), (2, 5, 2, 1, '2024-04-18 20:36:40'), (3, 5, 2, 2, '2024-04-18 20:36:40'), (4, 6, 2, 2, '2024-04-18 20:36:40'), (5, 6, 3, 2, '2024-04-18 20:36:40')]\n"
          ]
        }
      ],
      "source": [
        "\"\"\"\n",
        "Example 1.2: Users can only purchase upto 6 tickets.\n",
        "Here we see two additional patterns of code\n",
        "- Run a query, get data, and decide if a value needs to be updated\n",
        "- Run a query to modify another table\n",
        "\"\"\"\n",
        "def purchase_restricted(user_id, concert_id, num_tickets):\n",
        "  print(f'Checking purchase restrictions for user_id={user_id}, concert_id={concert_id}, num_tickets={num_tickets}')\n",
        "  with conn:\n",
        "    # Begin a new transaction\n",
        "    cursor.execute(\"\"\"BEGIN;\"\"\")\n",
        "\n",
        "    # Get the number of tickets purchased by the user\n",
        "    cursor.execute(\"\"\"\n",
        "    SELECT SUM(num_tickets) FROM Tickets WHERE user_id = ?;\"\"\", (user_id,))\n",
        "    num_tickets_purchased = cursor.fetchone()[0]\n",
        "    # Check if the user has reached the maximum ticket purchase limit\n",
        "    if (num_tickets_purchased or 0) + num_tickets > 6:\n",
        "      print(\"Purchase restriction: Maximum ticket purchase limit reached.\")\n",
        "      return False\n",
        "    else:\n",
        "      # Update the number of available tickets for the concert\n",
        "      cursor.execute(\"\"\"\n",
        "      UPDATE Concerts SET available_tickets = available_tickets - ? WHERE id = ?;\n",
        "      \"\"\", (num_tickets, concert_id))\n",
        "\n",
        "      # Insert the ticket purchase entry into the Tickets table\n",
        "      cursor.execute(\"\"\"\n",
        "      INSERT INTO Tickets (user_id, concert_id, num_tickets) VALUES (?, ?, ?);\n",
        "      \"\"\", (user_id, concert_id, num_tickets))\n",
        "      # Commit the transaction\n",
        "      conn.commit()\n",
        "      return True\n",
        "\n",
        "# Users trying to buy tickets\n",
        "for (user, concert, numtix) in [(5, 2, 2), (5, 2, 1), (5, 2, 2), (6, 2, 2), (6, 3, 2)]:\n",
        "  print('--->',  cursor.execute(\"\"\"SELECT * FROM Tickets;\"\"\").fetchall())\n",
        "  purchase_restricted(user, concert, numtix)\n",
        "print('--->', cursor.execute(\"\"\"SELECT * FROM Tickets;\"\"\").fetchall())"
      ]
    },
    {
      "cell_type": "code",
      "execution_count": 15,
      "id": "493dbc9f",
      "metadata": {
        "colab": {
          "base_uri": "https://localhost:8080/",
          "height": 0
        },
        "id": "493dbc9f",
        "outputId": "0e07fbe0-f955-43fe-e15f-5098320aa875"
      },
      "outputs": [
        {
          "output_type": "stream",
          "name": "stdout",
          "text": [
            "Find super fans\n",
            "---> [(5, 0), (6, 1)]\n"
          ]
        }
      ],
      "source": [
        "\"\"\"\n",
        "Example 1.3: Find superfans who buy tickets to multiple concerts\n",
        "Here we see an example of updates based on using more SQL logic\n",
        "\"\"\"\n",
        "\n",
        "# Create the Users table\n",
        "cursor.execute(\"\"\"\n",
        "CREATE TABLE IF NOT EXISTS Users (\n",
        "    user_id INTEGER PRIMARY KEY,\n",
        "    superfan INTEGER\n",
        ");\"\"\")\n",
        "\n",
        "# No superfans to start\n",
        "cursor.execute(\"delete from Users;\")\n",
        "cursor.execute(\"\"\"\n",
        "INSERT INTO Users (user_id, superfan)\n",
        "VALUES (5, 0), (6, 0);\"\"\")\n",
        "conn.commit()\n",
        "\n",
        "def find_superfans():\n",
        "    print(f'Find super fans')\n",
        "    with conn:\n",
        "        # Begin a new transaction\n",
        "        cursor.execute(\"\"\"BEGIN;\"\"\")\n",
        "\n",
        "        # Find users who buy tickets to >= 2 concerts and >=2 tickets\n",
        "        cursor.execute(\"\"\"\n",
        "        UPDATE Users\n",
        "        SET superfan = 1\n",
        "        WHERE user_id IN (\n",
        "          SELECT user_id\n",
        "          FROM (\n",
        "          SELECT user_id, COUNT(DISTINCT concert_id) AS distinct_concerts\n",
        "          FROM Tickets\n",
        "          GROUP BY user_id\n",
        "          HAVING SUM(num_tickets) >= 2 AND COUNT(DISTINCT concert_id) >= 2\n",
        "          ) AS subquery\n",
        "        );\"\"\")\n",
        "        conn.commit()\n",
        "\n",
        "find_superfans()\n",
        "cursor.execute(\"SELECT * FROM Users;\")\n",
        "print('--->',  cursor.fetchall())\n"
      ]
    },
    {
      "cell_type": "code",
      "execution_count": 16,
      "id": "4c31bf42",
      "metadata": {
        "id": "4c31bf42"
      },
      "outputs": [],
      "source": [
        "conn.close()"
      ]
    },
    {
      "cell_type": "markdown",
      "id": "9a673e20",
      "metadata": {
        "id": "9a673e20"
      },
      "source": [
        "TO DO: Summarize in a few sentences what the code in this activity does."
      ]
    },
    {
      "cell_type": "markdown",
      "source": [
        "\n",
        "\n",
        "*   To manage concert data, it creates an in-memory SQLite database.\n",
        "*   Makes a \"Concerts\" table to hold details about upcoming shows and ticket availability.\n",
        "*   Outlines procedures to mimic buying and returning concert tickets.\n",
        "*   Tickets are refunded for another randomly chosen concert once a randomly picked show is chosen, simulating a transaction.\n",
        "*   Following the transactions, prints the \"Concerts\" table's final state.\n",
        "\n",
        "\n",
        "\n",
        "\n",
        "\n",
        "\n",
        "\n",
        "\n",
        "\n"
      ],
      "metadata": {
        "id": "7aefAbgB6QhA"
      },
      "id": "7aefAbgB6QhA"
    }
  ],
  "metadata": {
    "kernelspec": {
      "display_name": "Python 3 (ipykernel)",
      "language": "python",
      "name": "python3"
    },
    "language_info": {
      "codemirror_mode": {
        "name": "ipython",
        "version": 3
      },
      "file_extension": ".py",
      "mimetype": "text/x-python",
      "name": "python",
      "nbconvert_exporter": "python",
      "pygments_lexer": "ipython3",
      "version": "3.11.1"
    },
    "colab": {
      "provenance": [],
      "include_colab_link": true
    }
  },
  "nbformat": 4,
  "nbformat_minor": 5
}